{
 "cells": [
  {
   "cell_type": "markdown",
   "metadata": {},
   "source": [
    "Import the necessary libraries for this project"
   ]
  },
  {
   "cell_type": "code",
   "execution_count": 2,
   "metadata": {},
   "outputs": [],
   "source": [
    "import pandas as pd\n",
    "import matplotlib.pyplot as plt\n",
    "from sklearn.neighbors import KNeighborsClassifier\n",
    "from sklearn.metrics import accuracy_score\n",
    "from sklearn.metrics import precision_score\n",
    "from sklearn.model_selection import train_test_split\n"
   ]
  },
  {
   "cell_type": "markdown",
   "metadata": {},
   "source": [
    "make dataframes from the excel data"
   ]
  },
  {
   "cell_type": "code",
   "execution_count": 3,
   "metadata": {},
   "outputs": [],
   "source": [
    "exp_1 = pd.read_excel(\"EXP-00001-Master.xlsx\")\n",
    "exp_2 = pd.read_excel('EXP-00002-Master.xlsx')\n",
    "exp_3 = pd.read_excel('EXP-00003-Master.xlsx')\n",
    "exp_4 = pd.read_excel('EXP-00004-Master.xlsx')\n",
    "exp_5 = pd.read_excel('EXP-00005-Master.xlsx')"
   ]
  },
  {
   "cell_type": "code",
   "execution_count": 4,
   "metadata": {},
   "outputs": [],
   "source": [
    "exp_1.drop(index=0, inplace=True)\n",
    "exp_2.drop(index=0, inplace=True)\n",
    "exp_3.drop(index=0, inplace=True)\n",
    "exp_4.drop(index = 0, inplace = True)\n",
    "exp_5.drop(index = 0, inplace= True)\n",
    "\n",
    "exp_1.reset_index(drop=True, inplace=True)\n",
    "exp_2.reset_index(drop=True, inplace=True)\n",
    "exp_3.reset_index(drop=True, inplace=True)\n",
    "exp_4.reset_index(drop=True, inplace=True)\n",
    "exp_5.reset_index(drop=True, inplace=True)"
   ]
  },
  {
   "cell_type": "code",
   "execution_count": 5,
   "metadata": {},
   "outputs": [],
   "source": [
    "# exp_1.groupby(['Id'])['Id'].count()\n",
    "# exp_1[exp_1['Id'] == 1]\n",
    "# #Dropping Id column since it's not relevant\n",
    "\n",
    "# exp_1.groupby(['Filter0']).count()\n",
    "# exp_2.groupby(['Filter0']).count()\n",
    "# exp_3.groupby(['Filter0']).count()\n",
    "\n",
    "# exp_1.groupby(['Filter1']).count()\n",
    "# exp_2.groupby(['Filter1']).count()\n",
    "# exp_3.groupby(['Filter1']).count()\n",
    "\n",
    "# exp_1.groupby(['Filter2']).count()\n",
    "# exp_2.groupby(['Filter2']).count()\n",
    "# exp_3.groupby(['Filter2']).count()\n",
    "\n",
    "# exp_1.groupby(['Filter3']).count()\n",
    "# exp_2.groupby(['Filter3']).count()\n",
    "# exp_3.groupby(['Filter3']).count()\n",
    "\n",
    "\n",
    "# exp_1.groupby(['Filter4']).count()\n",
    "# exp_2.groupby(['Filter4']).count()\n",
    "# exp_3.groupby(['Filter4']).count()\n",
    "\n",
    "# exp_1.groupby(['Filter5']).count()\n",
    "# exp_2.groupby(['Filter5']).count()\n",
    "# exp_3.groupby(['Filter5']).count()\n",
    "\n",
    "# exp_1.groupby(['Filter6']).count()\n",
    "# exp_2.groupby(['Filter6']).count()\n",
    "# exp_3.groupby(['Filter6']).count()\n",
    "\n",
    "#All filters contain reject for all filter columns, they are getting dropped\n",
    "\n",
    "# exp_1.groupby(['hash']).count()\n",
    "# exp_2.groupby(['hash']).count()\n",
    "# exp_3.groupby(['hash']).count()\n",
    "# Dropping hash, all values are 0\n",
    "\n",
    "#Img Id doesn't seem to provide good values"
   ]
  },
  {
   "cell_type": "code",
   "execution_count": null,
   "metadata": {},
   "outputs": [],
   "source": [
    "not_included = ['Id', 'Filter0','Filter1', 'Filter2','Filter3', 'Filter4', 'Filter5', 'Filter6', 'hash', 'Img Id', 'Curvature', 'Transparency', 'Angularity']\n",
    "filtered = [x for x in exp_1.columns if x not in not_included]\n",
    "\n",
    "\n",
    "\n",
    "exp_1_filtered = exp_1[filtered]\n",
    "exp_2_filtered = exp_2[filtered]\n",
    "exp_3_filtered = exp_3[filtered]\n",
    "exp_4_filtered = exp_4[filtered]\n",
    "exp_5_filtered = exp_5[filtered]\n",
    "\n",
    "exp_1_filtered['Production Stage'] = 0\n",
    "exp_2_filtered['Production Stage'] = 1\n",
    "exp_3_filtered['Production Stage'] = 2\n",
    "exp_4_filtered['Production Stage'] = 3\n",
    "exp_5_filtered['Production Stage'] = 4"
   ]
  },
  {
   "cell_type": "code",
   "execution_count": null,
   "metadata": {},
   "outputs": [],
   "source": [
    "r1, c1 = exp_1_filtered.shape\n",
    "r2, c2 = exp_2_filtered.shape\n",
    "r3, c3  = exp_3_filtered.shape\n",
    "data = exp_1_filtered.merge(exp_2_filtered, how= 'outer')\n",
    "data\n",
    "data = data.merge(exp_3_filtered, how = 'outer')\n",
    "data = data.merge(exp_4_filtered, how = 'outer')\n",
    "data = data.merge(exp_5_filtered, how='outer')"
   ]
  },
  {
   "cell_type": "code",
   "execution_count": 9,
   "metadata": {},
   "outputs": [],
   "source": [
    " X_train, X_test, y_train, y_test = train_test_split(\n",
    "    data[filtered],\n",
    "    data['Production Stage'],\n",
    "    test_size=0.2,\n",
    "    stratify= data['Production Stage'],\n",
    "    random_state=44)"
   ]
  },
  {
   "cell_type": "code",
   "execution_count": 18,
   "metadata": {},
   "outputs": [],
   "source": [
    "model = KNeighborsClassifier(n_neighbors=40, weights= 'distance', algorithm=  'brute', leaf_size = 35)\n",
    "model.fit(X_train, y_train)\n",
    "labels = data['Production Stage']\n",
    "\n",
    "random = data.sample(frac = 1)\n",
    "\n",
    "one_hundred = random[:1000]\n",
    "\n",
    "predictions = model.predict(X_test)\n",
    "\n",
    "total = 0\n",
    "correct = 0"
   ]
  },
  {
   "cell_type": "code",
   "execution_count": 20,
   "metadata": {},
   "outputs": [
    {
     "name": "stdout",
     "output_type": "stream",
     "text": [
      "Accuracy score: 0.340633651184251\n",
      "0.2788714480440247\n"
     ]
    }
   ],
   "source": [
    "print('Accuracy score:',accuracy_score(y_test, predictions))\n",
    "print(precision_score(y_test, predictions, average='macro'))"
   ]
  }
 ],
 "metadata": {
  "kernelspec": {
   "display_name": "Python 3.9.12 ('base')",
   "language": "python",
   "name": "python3"
  },
  "language_info": {
   "codemirror_mode": {
    "name": "ipython",
    "version": 3
   },
   "file_extension": ".py",
   "mimetype": "text/x-python",
   "name": "python",
   "nbconvert_exporter": "python",
   "pygments_lexer": "ipython3",
   "version": "3.9.12"
  },
  "orig_nbformat": 4,
  "vscode": {
   "interpreter": {
    "hash": "156eba96b6fcd6f04a4e8b9649664bc4ed6dd29c5b93cfc57b5c6c5dec6406e4"
   }
  }
 },
 "nbformat": 4,
 "nbformat_minor": 2
}
