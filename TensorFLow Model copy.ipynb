{
 "cells": [
  {
   "cell_type": "code",
   "execution_count": 1,
   "metadata": {},
   "outputs": [],
   "source": [
    "import pandas as pd\n",
    "import matplotlib.pyplot as plt\n",
    "import tensorflow as tf"
   ]
  },
  {
   "cell_type": "code",
   "execution_count": 4,
   "metadata": {},
   "outputs": [],
   "source": [
    "exp_1 = pd.read_excel(\"EXP-00001-Master.xlsx\")"
   ]
  },
  {
   "cell_type": "code",
   "execution_count": 3,
   "metadata": {},
   "outputs": [],
   "source": [
    "exp_2 = pd.read_excel('EXP-00002-Master.xlsx')"
   ]
  },
  {
   "cell_type": "code",
   "execution_count": 5,
   "metadata": {},
   "outputs": [],
   "source": [
    "exp_3 = pd.read_excel('EXP-00003-Master.xlsx')"
   ]
  },
  {
   "cell_type": "code",
   "execution_count": 6,
   "metadata": {},
   "outputs": [],
   "source": [
    "exp_4 = pd.read_excel('EXP-00004-Master.xlsx')\n",
    "exp_5 = pd.read_excel('EXP-00004-Master.xlsx')"
   ]
  },
  {
   "cell_type": "code",
   "execution_count": 7,
   "metadata": {},
   "outputs": [],
   "source": [
    "\n",
    "exp_1.drop(index=0, inplace=True)\n",
    "exp_2.drop(index=0, inplace=True)\n",
    "exp_3.drop(index=0, inplace=True)\n",
    "exp_4.drop(index = 0, inplace = True)\n",
    "exp_5.drop(index = 0, inplace= True)\n",
    "\n",
    "exp_1.reset_index(drop=True, inplace=True)\n",
    "exp_2.reset_index(drop=True, inplace=True)\n",
    "exp_3.reset_index(drop=True, inplace=True)\n",
    "exp_4.reset_index(drop=True, inplace=True)\n",
    "exp_5.reset_index(drop=True, inplace=True)"
   ]
  },
  {
   "cell_type": "markdown",
   "metadata": {},
   "source": [
    "['Id', 'Img Id', 'Da', 'Dp', 'FWidth', 'FLength', 'FThickness',\n",
    "       'ELength', 'EThickness', 'EWidth', 'Volume', 'Area', 'Perimeter',\n",
    "       'CHull  Area', 'CHull Perimeter', 'Sphericity', 'L/T Ratio',\n",
    "       'T/L Aspect Ratio', 'Compactness', 'Roundness', 'Ellipse Ratio',\n",
    "       'Circularity', 'Solidity', 'Concavity', 'Convexity', 'Extent', 'hash',\n",
    "       'Surface Area', 'Filter0', 'Filter1', 'Filter2', 'Filter3', 'Filter4',\n",
    "       'Filter5', 'Filter6', 'L/W Ratio', 'W/L Ratio', 'W/T Ratio',\n",
    "       'T/W Ratio', 'CHull Surface Area', 'Sieve', 'Ellipticity',\n",
    "       'Fiber Length', 'Fiber Width'],"
   ]
  },
  {
   "cell_type": "code",
   "execution_count": null,
   "metadata": {},
   "outputs": [
    {
     "data": {
      "text/plain": [
       "Index(['Id', 'Img Id', 'Da', 'Dp', 'FWidth', 'FLength', 'FThickness',\n",
       "       'ELength', 'EThickness', 'EWidth', 'Volume', 'Area', 'Perimeter',\n",
       "       'CHull  Area', 'CHull Perimeter', 'Sphericity', 'L/T Ratio',\n",
       "       'T/L Aspect Ratio', 'Compactness', 'Roundness', 'Ellipse Ratio',\n",
       "       'Circularity', 'Solidity', 'Concavity', 'Convexity', 'Extent', 'hash',\n",
       "       'Transparency', 'Curvature', 'Surface Area', 'Filter0', 'Filter1',\n",
       "       'Filter2', 'Filter3', 'Filter4', 'Filter5', 'Filter6', 'L/W Ratio',\n",
       "       'W/L Ratio', 'W/T Ratio', 'T/W Ratio', 'CHull Surface Area', 'Sieve',\n",
       "       'Angularity', 'Ellipticity', 'Fiber Length', 'Fiber Width'],\n",
       "      dtype='object')"
      ]
     },
     "execution_count": 8,
     "metadata": {},
     "output_type": "execute_result"
    }
   ],
   "source": [
    "# exp_1.groupby(['Id'])['Id'].count()\n",
    "# exp_1[exp_1['Id'] == 1]\n",
    "# #Dropping Id column since it's not relevant\n",
    "\n",
    "# exp_1.groupby(['Filter0']).count()\n",
    "# exp_2.groupby(['Filter0']).count()\n",
    "# exp_3.groupby(['Filter0']).count()\n",
    "\n",
    "# exp_1.groupby(['Filter1']).count()\n",
    "# exp_2.groupby(['Filter1']).count()\n",
    "# exp_3.groupby(['Filter1']).count()\n",
    "\n",
    "# exp_1.groupby(['Filter2']).count()\n",
    "# exp_2.groupby(['Filter2']).count()\n",
    "# exp_3.groupby(['Filter2']).count()\n",
    "\n",
    "# exp_1.groupby(['Filter3']).count()\n",
    "# exp_2.groupby(['Filter3']).count()\n",
    "# exp_3.groupby(['Filter3']).count()\n",
    "\n",
    "\n",
    "# exp_1.groupby(['Filter4']).count()\n",
    "# exp_2.groupby(['Filter4']).count()\n",
    "# exp_3.groupby(['Filter4']).count()\n",
    "\n",
    "# exp_1.groupby(['Filter5']).count()\n",
    "# exp_2.groupby(['Filter5']).count()\n",
    "# exp_3.groupby(['Filter5']).count()\n",
    "\n",
    "# exp_1.groupby(['Filter6']).count()\n",
    "# exp_2.groupby(['Filter6']).count()\n",
    "# exp_3.groupby(['Filter6']).count()\n",
    "\n",
    "#All filters contain reject for all filter columns, they are getting dropped\n",
    "\n",
    "# exp_1.groupby(['hash']).count()\n",
    "# exp_2.groupby(['hash']).count()\n",
    "# exp_3.groupby(['hash']).count()\n",
    "# Dropping hash, all values are 0\n",
    "\n",
    "#Img Id doesn't seem to provide good values\n",
    "\n",
    "exp_5.columns"
   ]
  },
  {
   "cell_type": "code",
   "execution_count": 8,
   "metadata": {},
   "outputs": [
    {
     "name": "stderr",
     "output_type": "stream",
     "text": [
      "/var/folders/hx/pqx1jktn7hs7y0_68_bzk__m0000gn/T/ipykernel_14940/4217849102.py:12: SettingWithCopyWarning: \n",
      "A value is trying to be set on a copy of a slice from a DataFrame.\n",
      "Try using .loc[row_indexer,col_indexer] = value instead\n",
      "\n",
      "See the caveats in the documentation: https://pandas.pydata.org/pandas-docs/stable/user_guide/indexing.html#returning-a-view-versus-a-copy\n",
      "  exp_1_filtered['Production Stage'] = 0\n",
      "/var/folders/hx/pqx1jktn7hs7y0_68_bzk__m0000gn/T/ipykernel_14940/4217849102.py:13: SettingWithCopyWarning: \n",
      "A value is trying to be set on a copy of a slice from a DataFrame.\n",
      "Try using .loc[row_indexer,col_indexer] = value instead\n",
      "\n",
      "See the caveats in the documentation: https://pandas.pydata.org/pandas-docs/stable/user_guide/indexing.html#returning-a-view-versus-a-copy\n",
      "  exp_2_filtered['Production Stage'] = 1\n",
      "/var/folders/hx/pqx1jktn7hs7y0_68_bzk__m0000gn/T/ipykernel_14940/4217849102.py:14: SettingWithCopyWarning: \n",
      "A value is trying to be set on a copy of a slice from a DataFrame.\n",
      "Try using .loc[row_indexer,col_indexer] = value instead\n",
      "\n",
      "See the caveats in the documentation: https://pandas.pydata.org/pandas-docs/stable/user_guide/indexing.html#returning-a-view-versus-a-copy\n",
      "  exp_3_filtered['Production Stage'] = 2\n",
      "/var/folders/hx/pqx1jktn7hs7y0_68_bzk__m0000gn/T/ipykernel_14940/4217849102.py:15: SettingWithCopyWarning: \n",
      "A value is trying to be set on a copy of a slice from a DataFrame.\n",
      "Try using .loc[row_indexer,col_indexer] = value instead\n",
      "\n",
      "See the caveats in the documentation: https://pandas.pydata.org/pandas-docs/stable/user_guide/indexing.html#returning-a-view-versus-a-copy\n",
      "  exp_4_filtered['Production Stage'] = 3\n",
      "/var/folders/hx/pqx1jktn7hs7y0_68_bzk__m0000gn/T/ipykernel_14940/4217849102.py:16: SettingWithCopyWarning: \n",
      "A value is trying to be set on a copy of a slice from a DataFrame.\n",
      "Try using .loc[row_indexer,col_indexer] = value instead\n",
      "\n",
      "See the caveats in the documentation: https://pandas.pydata.org/pandas-docs/stable/user_guide/indexing.html#returning-a-view-versus-a-copy\n",
      "  exp_5_filtered['Production Stage'] = 4\n"
     ]
    }
   ],
   "source": [
    "not_included = ['Id', 'Filter0','Filter1', 'Filter2','Filter3', 'Filter4', 'Filter5', 'Filter6', 'hash', 'Img Id', 'Curvature', 'Transparency', 'Angularity']\n",
    "filtered = [x for x in exp_1.columns if x not in not_included]\n",
    "\n",
    "\n",
    "\n",
    "exp_1_filtered = exp_1[filtered]\n",
    "exp_2_filtered = exp_2[filtered]\n",
    "exp_3_filtered = exp_3[filtered]\n",
    "exp_4_filtered = exp_4[filtered]\n",
    "exp_5_filtered = exp_5[filtered]\n",
    "\n",
    "exp_1_filtered['Production Stage'] = 0\n",
    "exp_2_filtered['Production Stage'] = 1\n",
    "exp_3_filtered['Production Stage'] = 2\n",
    "exp_4_filtered['Production Stage'] = 3\n",
    "exp_5_filtered['Production Stage'] = 4"
   ]
  },
  {
   "cell_type": "code",
   "execution_count": 9,
   "metadata": {},
   "outputs": [
    {
     "name": "stderr",
     "output_type": "stream",
     "text": [
      "/Users/rodrigo/opt/anaconda3/lib/python3.9/site-packages/pandas/core/reshape/merge.py:916: FutureWarning: In a future version, the Index constructor will not infer numeric dtypes when passed object-dtype sequences (matching Series behavior)\n",
      "  key_col = Index(lvals).where(~mask_left, rvals)\n",
      "/Users/rodrigo/opt/anaconda3/lib/python3.9/site-packages/pandas/core/reshape/merge.py:916: FutureWarning: In a future version, the Index constructor will not infer numeric dtypes when passed object-dtype sequences (matching Series behavior)\n",
      "  key_col = Index(lvals).where(~mask_left, rvals)\n",
      "/Users/rodrigo/opt/anaconda3/lib/python3.9/site-packages/pandas/core/reshape/merge.py:916: FutureWarning: In a future version, the Index constructor will not infer numeric dtypes when passed object-dtype sequences (matching Series behavior)\n",
      "  key_col = Index(lvals).where(~mask_left, rvals)\n",
      "/Users/rodrigo/opt/anaconda3/lib/python3.9/site-packages/pandas/core/reshape/merge.py:916: FutureWarning: In a future version, the Index constructor will not infer numeric dtypes when passed object-dtype sequences (matching Series behavior)\n",
      "  key_col = Index(lvals).where(~mask_left, rvals)\n"
     ]
    }
   ],
   "source": [
    "r1, c1 = exp_1_filtered.shape\n",
    "r2, c2 = exp_2_filtered.shape\n",
    "r3, c3  = exp_3_filtered.shape\n",
    "data = exp_1_filtered.merge(exp_2_filtered, how= 'outer')\n",
    "data\n",
    "data = data.merge(exp_3_filtered, how = 'outer')\n",
    "data = data.merge(exp_4_filtered, how = 'outer')\n",
    "data = data.merge(exp_5_filtered, how='outer')"
   ]
  },
  {
   "cell_type": "code",
   "execution_count": 11,
   "metadata": {},
   "outputs": [
    {
     "data": {
      "text/plain": [
       "<AxesSubplot:>"
      ]
     },
     "execution_count": 11,
     "metadata": {},
     "output_type": "execute_result"
    },
    {
     "data": {
      "image/png": "[encoded data removed]",
      "text/plain": [
       "<Figure size 432x288 with 2 Axes>"
      ]
     },
     "metadata": {
      "needs_background": "light"
     },
     "output_type": "display_data"
    }
   ],
   "source": [
    "import seaborn as sns\n",
    "\n",
    "for x in data.columns: \n",
    "    data[x] = pd.to_numeric(data[x])\n",
    "\n",
    "sns.heatmap(data.corr())"
   ]
  },
  {
   "cell_type": "code",
   "execution_count": 12,
   "metadata": {},
   "outputs": [],
   "source": [
    "s =data.corr()\n",
    "the_corr = s['Production Stage']"
   ]
  },
  {
   "cell_type": "code",
   "execution_count": null,
   "metadata": {},
   "outputs": [
    {
     "data": {
      "text/plain": [
       "Da                    0.025562\n",
       "Dp                    0.039007\n",
       "FWidth                0.013860\n",
       "FLength               0.034796\n",
       "FThickness            0.019973\n",
       "ELength               0.030728\n",
       "EThickness            0.016485\n",
       "EWidth                0.010461\n",
       "Volume               -0.001783\n",
       "Area                  0.010128\n",
       "Perimeter             0.039007\n",
       "CHull  Area           0.010623\n",
       "CHull Perimeter       0.034216\n",
       "Sphericity           -0.120339\n",
       "L/T Ratio             0.020885\n",
       "T/L Aspect Ratio     -0.030054\n",
       "Compactness          -0.046134\n",
       "Roundness            -0.049205\n",
       "Ellipse Ratio        -0.028785\n",
       "Circularity          -0.121177\n",
       "Solidity             -0.069948\n",
       "Concavity             0.069948\n",
       "Convexity            -0.110819\n",
       "Extent               -0.015434\n",
       "Surface Area          0.010128\n",
       "L/W Ratio             0.053797\n",
       "W/L Ratio            -0.056822\n",
       "W/T Ratio            -0.013822\n",
       "T/W Ratio             0.007395\n",
       "CHull Surface Area    0.010623\n",
       "Sieve                 0.016452\n",
       "Ellipticity           0.021060\n",
       "Fiber Length          0.046684\n",
       "Fiber Width           0.032074\n",
       "Production Stage      1.000000\n",
       "Name: Production Stage, dtype: float64"
      ]
     },
     "execution_count": 86,
     "metadata": {},
     "output_type": "execute_result"
    }
   ],
   "source": [
    "the_corr"
   ]
  },
  {
   "cell_type": "code",
   "execution_count": 13,
   "metadata": {},
   "outputs": [
    {
     "data": {
      "text/plain": [
       "Production Stage\n",
       "0    9714\n",
       "1    9938\n",
       "2    2964\n",
       "3    7336\n",
       "4    7336\n",
       "Name: Production Stage, dtype: int64"
      ]
     },
     "execution_count": 13,
     "metadata": {},
     "output_type": "execute_result"
    }
   ],
   "source": [
    "from sklearn.model_selection import train_test_split\n",
    "\n",
    "X_train, X_test, y_train, y_test = train_test_split(\n",
    "    data[filtered],\n",
    "    data['Production Stage'],\n",
    "    test_size=0.2,\n",
    "    stratify= data['Production Stage'],\n",
    "    random_state=44)\n",
    "\n",
    "y_train.groupby(y_train).count()\n",
    "y_test.groupby(y_test).count()\n",
    "\n"
   ]
  },
  {
   "cell_type": "code",
   "execution_count": 16,
   "metadata": {},
   "outputs": [],
   "source": [
    "from sklearn.neighbors import KNeighborsClassifier\n",
    "from sklearn.preprocessing import scale\n",
    "from sklearn.metrics import homogeneity_score\n",
    "from sklearn.metrics import completeness_score\n",
    "from sklearn.model_selection import GridSearchCV\n",
    "import tensorflow as tf"
   ]
  },
  {
   "cell_type": "code",
   "execution_count": 110,
   "metadata": {},
   "outputs": [],
   "source": [
    "stage_0 = [1 if x ==0 else 0 for x in data['Production Stage'] ]\n",
    "stage_1 = [1 if x ==1 else 0 for x in data['Production Stage']]\n",
    "stage_2 = [1 if x ==2 else 0 for x in data['Production Stage']]\n",
    "stage_3 = [1 if x ==3 else 0 for x in data['Production Stage']]\n",
    "stage_4 = [1 if x ==4 else 0 for x in data['Production Stage']]\n",
    "\n",
    "the_stages = ['stage_0', 'stage_1', 'stage_2', 'stage_3', 'stage_4']"
   ]
  },
  {
   "cell_type": "code",
   "execution_count": 107,
   "metadata": {},
   "outputs": [],
   "source": [
    "model = tf.keras.Sequential([\n",
    "    tf.keras.layers.Dense(128, input_shape=(len(filtered),)),\n",
    "    tf.keras.layers.Dense(64, activation = 'relu'),\n",
    "    tf.keras.layers.Dense(1, activation = tf.nn.softmax)])\n",
    "\n",
    "\n",
    "# model = tf.keras.Sequential([\n",
    "#     tf.keras.layers.Dense(128, input_shape=(len(filtered),)),\n",
    "#     tf.keras.layers.Dense(64, activation = 'relu'),\n",
    "#     tf.keras.layers.Dense(5, activation = tf.nn.softmax)])"
   ]
  },
  {
   "cell_type": "code",
   "execution_count": 108,
   "metadata": {},
   "outputs": [],
   "source": [
    "model.compile(\n",
    "    loss='categorical_crossentropy',\n",
    "    optimizer='Adam',\n",
    "    metrics=['accuracy'],\n",
    ")"
   ]
  },
  {
   "cell_type": "code",
   "execution_count": 99,
   "metadata": {},
   "outputs": [
    {
     "name": "stdout",
     "output_type": "stream",
     "text": [
      "           Da     Dp  FWidth  FLength  FThickness  ELength  EThickness  \\\n",
      "147410  1.481  2.323   1.297    3.584       0.383    3.509       0.343   \n",
      "1534    0.819  1.002   0.743    1.156       0.550    1.094       0.515   \n",
      "101118  0.633  0.878   0.798    1.055       0.244    1.031       0.217   \n",
      "125770  0.468  0.766   0.672    1.467       0.139    1.350       0.127   \n",
      "162873  0.648  0.854   0.730    1.124       0.322    0.998       0.307   \n",
      "...       ...    ...     ...      ...         ...      ...         ...   \n",
      "35953   0.263  0.335   0.245    0.556       0.162    0.563       0.153   \n",
      "27112   0.397  0.595   0.325    1.263       0.202    1.352       0.194   \n",
      "168268  0.485  0.637   0.645    0.919       0.164    0.832       0.148   \n",
      "7468    0.575  0.650   0.696    0.951       0.275    0.868       0.285   \n",
      "36502   0.409  0.505   0.451    0.796       0.159    0.825       0.139   \n",
      "\n",
      "        EWidth  Volume   Area  ...  Surface Area  L/W Ratio  W/L Ratio  \\\n",
      "147410   1.212   0.932  1.723  ...         6.892      2.764      0.362   \n",
      "1534     0.716   0.247  0.527  ...         2.108      1.555      0.643   \n",
      "101118   0.712   0.108  0.315  ...         1.260      1.322      0.756   \n",
      "125770   0.578   0.072  0.172  ...         0.687      2.185      0.458   \n",
      "162873   0.726   0.139  0.330  ...         1.320      1.539      0.650   \n",
      "...        ...     ...    ...  ...           ...        ...        ...   \n",
      "35953    0.242   0.012  0.054  ...         0.217      2.271      0.440   \n",
      "27112    0.318   0.043  0.124  ...         0.496      3.891      0.257   \n",
      "168268   0.608   0.051  0.185  ...         0.739      1.426      0.701   \n",
      "7468     0.673   0.095  0.260  ...         1.040      1.366      0.732   \n",
      "36502    0.470   0.030  0.132  ...         0.526      1.766      0.566   \n",
      "\n",
      "        W/T Ratio  T/W Ratio  CHull Surface Area  Sieve  Ellipticity  \\\n",
      "147410      3.386      0.295               7.930  0.840       10.234   \n",
      "1534        1.350      0.740               2.260  0.647        2.126   \n",
      "101118      3.268      0.306               1.424  0.521        4.750   \n",
      "125770      4.828      0.207               0.967  0.405       10.603   \n",
      "162873      2.265      0.442               1.583  0.526        3.245   \n",
      "...           ...        ...                 ...    ...          ...   \n",
      "35953       1.515      0.660               0.233  0.203        3.674   \n",
      "27112       1.611      0.621               0.584  0.263        6.986   \n",
      "168268      3.936      0.254               0.808  0.404        5.624   \n",
      "7468        2.529      0.395               1.067  0.486        3.041   \n",
      "36502       2.828      0.354               0.547  0.305        5.940   \n",
      "\n",
      "        Fiber Length  Fiber Width  \n",
      "147410         3.486        0.256  \n",
      "1534           1.251        0.458  \n",
      "101118         1.482        0.294  \n",
      "125770         2.016        0.208  \n",
      "162873         1.681        0.265  \n",
      "...              ...          ...  \n",
      "35953          0.482        0.099  \n",
      "27112          1.279        0.121  \n",
      "168268         0.862        0.171  \n",
      "7468           0.635        0.283  \n",
      "36502          0.724        0.121  \n",
      "\n",
      "[149150 rows x 34 columns]\n"
     ]
    }
   ],
   "source": [
    "print(X_train)"
   ]
  },
  {
   "cell_type": "code",
   "execution_count": 100,
   "metadata": {},
   "outputs": [
    {
     "name": "stdout",
     "output_type": "stream",
     "text": [
      "147410    3\n",
      "1534      0\n",
      "101118    2\n",
      "125770    3\n",
      "162873    4\n",
      "         ..\n",
      "35953     0\n",
      "27112     0\n",
      "168268    4\n",
      "7468      0\n",
      "36502     0\n",
      "Name: Production Stage, Length: 149150, dtype: int64\n"
     ]
    }
   ],
   "source": [
    "print(y_train)"
   ]
  },
  {
   "cell_type": "code",
   "execution_count": 106,
   "metadata": {},
   "outputs": [
    {
     "data": {
      "text/plain": [
       "(149150,)"
      ]
     },
     "execution_count": 106,
     "metadata": {},
     "output_type": "execute_result"
    }
   ],
   "source": [
    "y_train.values.shape"
   ]
  },
  {
   "cell_type": "code",
   "execution_count": 109,
   "metadata": {},
   "outputs": [
    {
     "name": "stdout",
     "output_type": "stream",
     "text": [
      "Epoch 1/50\n",
      "4661/4661 [==============================] - 19s 4ms/step - loss: 0.0000e+00 - accuracy: 0.2665\n",
      "Epoch 2/50\n",
      "4661/4661 [==============================] - 16s 3ms/step - loss: 0.0000e+00 - accuracy: 0.2665\n",
      "Epoch 3/50\n",
      "4661/4661 [==============================] - 21s 4ms/step - loss: 0.0000e+00 - accuracy: 0.2665\n",
      "Epoch 4/50\n",
      "1012/4661 [=====>........................] - ETA: 25s - loss: 0.0000e+00 - accuracy: 0.2687"
     ]
    },
    {
     "ename": "KeyboardInterrupt",
     "evalue": "",
     "output_type": "error",
     "traceback": [
      "\u001b[0;31m---------------------------------------------------------------------------\u001b[0m",
      "\u001b[0;31mKeyboardInterrupt\u001b[0m                         Traceback (most recent call last)",
      "\u001b[1;32m/Users/rodrigo/Downloads/bruh/FINAL/TensorFLow Model.ipynb Cell 21'\u001b[0m in \u001b[0;36m<cell line: 3>\u001b[0;34m()\u001b[0m\n\u001b[1;32m      <a href='vscode-notebook-cell:/Users/rodrigo/Downloads/bruh/FINAL/TensorFLow%20Model.ipynb#ch0000023?line=0'>1</a>\u001b[0m callback \u001b[39m=\u001b[39m tf\u001b[39m.\u001b[39mkeras\u001b[39m.\u001b[39mcallbacks\u001b[39m.\u001b[39mEarlyStopping(monitor\u001b[39m=\u001b[39m\u001b[39m'\u001b[39m\u001b[39mloss\u001b[39m\u001b[39m'\u001b[39m, patience\u001b[39m=\u001b[39m\u001b[39m5\u001b[39m)\n\u001b[0;32m----> <a href='vscode-notebook-cell:/Users/rodrigo/Downloads/bruh/FINAL/TensorFLow%20Model.ipynb#ch0000023?line=2'>3</a>\u001b[0m history \u001b[39m=\u001b[39m model\u001b[39m.\u001b[39;49mfit(\n\u001b[1;32m      <a href='vscode-notebook-cell:/Users/rodrigo/Downloads/bruh/FINAL/TensorFLow%20Model.ipynb#ch0000023?line=3'>4</a>\u001b[0m     X_train,\n\u001b[1;32m      <a href='vscode-notebook-cell:/Users/rodrigo/Downloads/bruh/FINAL/TensorFLow%20Model.ipynb#ch0000023?line=4'>5</a>\u001b[0m     y_train\u001b[39m.\u001b[39;49mvalues,\n\u001b[1;32m      <a href='vscode-notebook-cell:/Users/rodrigo/Downloads/bruh/FINAL/TensorFLow%20Model.ipynb#ch0000023?line=5'>6</a>\u001b[0m     epochs\u001b[39m=\u001b[39;49m\u001b[39m50\u001b[39;49m,\n\u001b[1;32m      <a href='vscode-notebook-cell:/Users/rodrigo/Downloads/bruh/FINAL/TensorFLow%20Model.ipynb#ch0000023?line=6'>7</a>\u001b[0m     callbacks\u001b[39m=\u001b[39;49m[callback]\n\u001b[1;32m      <a href='vscode-notebook-cell:/Users/rodrigo/Downloads/bruh/FINAL/TensorFLow%20Model.ipynb#ch0000023?line=7'>8</a>\u001b[0m )\n",
      "File \u001b[0;32m~/opt/anaconda3/lib/python3.9/site-packages/keras/utils/traceback_utils.py:64\u001b[0m, in \u001b[0;36mfilter_traceback.<locals>.error_handler\u001b[0;34m(*args, **kwargs)\u001b[0m\n\u001b[1;32m     <a href='file:///~/opt/anaconda3/lib/python3.9/site-packages/keras/utils/traceback_utils.py?line=61'>62</a>\u001b[0m filtered_tb \u001b[39m=\u001b[39m \u001b[39mNone\u001b[39;00m\n\u001b[1;32m     <a href='file:///~/opt/anaconda3/lib/python3.9/site-packages/keras/utils/traceback_utils.py?line=62'>63</a>\u001b[0m \u001b[39mtry\u001b[39;00m:\n\u001b[0;32m---> <a href='file:///~/opt/anaconda3/lib/python3.9/site-packages/keras/utils/traceback_utils.py?line=63'>64</a>\u001b[0m   \u001b[39mreturn\u001b[39;00m fn(\u001b[39m*\u001b[39;49margs, \u001b[39m*\u001b[39;49m\u001b[39m*\u001b[39;49mkwargs)\n\u001b[1;32m     <a href='file:///~/opt/anaconda3/lib/python3.9/site-packages/keras/utils/traceback_utils.py?line=64'>65</a>\u001b[0m \u001b[39mexcept\u001b[39;00m \u001b[39mException\u001b[39;00m \u001b[39mas\u001b[39;00m e:  \u001b[39m# pylint: disable=broad-except\u001b[39;00m\n\u001b[1;32m     <a href='file:///~/opt/anaconda3/lib/python3.9/site-packages/keras/utils/traceback_utils.py?line=65'>66</a>\u001b[0m   filtered_tb \u001b[39m=\u001b[39m _process_traceback_frames(e\u001b[39m.\u001b[39m__traceback__)\n",
      "File \u001b[0;32m~/opt/anaconda3/lib/python3.9/site-packages/keras/engine/training.py:1409\u001b[0m, in \u001b[0;36mModel.fit\u001b[0;34m(self, x, y, batch_size, epochs, verbose, callbacks, validation_split, validation_data, shuffle, class_weight, sample_weight, initial_epoch, steps_per_epoch, validation_steps, validation_batch_size, validation_freq, max_queue_size, workers, use_multiprocessing)\u001b[0m\n\u001b[1;32m   <a href='file:///~/opt/anaconda3/lib/python3.9/site-packages/keras/engine/training.py?line=1401'>1402</a>\u001b[0m \u001b[39mwith\u001b[39;00m tf\u001b[39m.\u001b[39mprofiler\u001b[39m.\u001b[39mexperimental\u001b[39m.\u001b[39mTrace(\n\u001b[1;32m   <a href='file:///~/opt/anaconda3/lib/python3.9/site-packages/keras/engine/training.py?line=1402'>1403</a>\u001b[0m     \u001b[39m'\u001b[39m\u001b[39mtrain\u001b[39m\u001b[39m'\u001b[39m,\n\u001b[1;32m   <a href='file:///~/opt/anaconda3/lib/python3.9/site-packages/keras/engine/training.py?line=1403'>1404</a>\u001b[0m     epoch_num\u001b[39m=\u001b[39mepoch,\n\u001b[1;32m   <a href='file:///~/opt/anaconda3/lib/python3.9/site-packages/keras/engine/training.py?line=1404'>1405</a>\u001b[0m     step_num\u001b[39m=\u001b[39mstep,\n\u001b[1;32m   <a href='file:///~/opt/anaconda3/lib/python3.9/site-packages/keras/engine/training.py?line=1405'>1406</a>\u001b[0m     batch_size\u001b[39m=\u001b[39mbatch_size,\n\u001b[1;32m   <a href='file:///~/opt/anaconda3/lib/python3.9/site-packages/keras/engine/training.py?line=1406'>1407</a>\u001b[0m     _r\u001b[39m=\u001b[39m\u001b[39m1\u001b[39m):\n\u001b[1;32m   <a href='file:///~/opt/anaconda3/lib/python3.9/site-packages/keras/engine/training.py?line=1407'>1408</a>\u001b[0m   callbacks\u001b[39m.\u001b[39mon_train_batch_begin(step)\n\u001b[0;32m-> <a href='file:///~/opt/anaconda3/lib/python3.9/site-packages/keras/engine/training.py?line=1408'>1409</a>\u001b[0m   tmp_logs \u001b[39m=\u001b[39m \u001b[39mself\u001b[39;49m\u001b[39m.\u001b[39;49mtrain_function(iterator)\n\u001b[1;32m   <a href='file:///~/opt/anaconda3/lib/python3.9/site-packages/keras/engine/training.py?line=1409'>1410</a>\u001b[0m   \u001b[39mif\u001b[39;00m data_handler\u001b[39m.\u001b[39mshould_sync:\n\u001b[1;32m   <a href='file:///~/opt/anaconda3/lib/python3.9/site-packages/keras/engine/training.py?line=1410'>1411</a>\u001b[0m     context\u001b[39m.\u001b[39masync_wait()\n",
      "File \u001b[0;32m~/opt/anaconda3/lib/python3.9/site-packages/tensorflow/python/util/traceback_utils.py:150\u001b[0m, in \u001b[0;36mfilter_traceback.<locals>.error_handler\u001b[0;34m(*args, **kwargs)\u001b[0m\n\u001b[1;32m    <a href='file:///~/opt/anaconda3/lib/python3.9/site-packages/tensorflow/python/util/traceback_utils.py?line=147'>148</a>\u001b[0m filtered_tb \u001b[39m=\u001b[39m \u001b[39mNone\u001b[39;00m\n\u001b[1;32m    <a href='file:///~/opt/anaconda3/lib/python3.9/site-packages/tensorflow/python/util/traceback_utils.py?line=148'>149</a>\u001b[0m \u001b[39mtry\u001b[39;00m:\n\u001b[0;32m--> <a href='file:///~/opt/anaconda3/lib/python3.9/site-packages/tensorflow/python/util/traceback_utils.py?line=149'>150</a>\u001b[0m   \u001b[39mreturn\u001b[39;00m fn(\u001b[39m*\u001b[39;49margs, \u001b[39m*\u001b[39;49m\u001b[39m*\u001b[39;49mkwargs)\n\u001b[1;32m    <a href='file:///~/opt/anaconda3/lib/python3.9/site-packages/tensorflow/python/util/traceback_utils.py?line=150'>151</a>\u001b[0m \u001b[39mexcept\u001b[39;00m \u001b[39mException\u001b[39;00m \u001b[39mas\u001b[39;00m e:\n\u001b[1;32m    <a href='file:///~/opt/anaconda3/lib/python3.9/site-packages/tensorflow/python/util/traceback_utils.py?line=151'>152</a>\u001b[0m   filtered_tb \u001b[39m=\u001b[39m _process_traceback_frames(e\u001b[39m.\u001b[39m__traceback__)\n",
      "File \u001b[0;32m~/opt/anaconda3/lib/python3.9/site-packages/tensorflow/python/eager/def_function.py:915\u001b[0m, in \u001b[0;36mFunction.__call__\u001b[0;34m(self, *args, **kwds)\u001b[0m\n\u001b[1;32m    <a href='file:///~/opt/anaconda3/lib/python3.9/site-packages/tensorflow/python/eager/def_function.py?line=911'>912</a>\u001b[0m compiler \u001b[39m=\u001b[39m \u001b[39m\"\u001b[39m\u001b[39mxla\u001b[39m\u001b[39m\"\u001b[39m \u001b[39mif\u001b[39;00m \u001b[39mself\u001b[39m\u001b[39m.\u001b[39m_jit_compile \u001b[39melse\u001b[39;00m \u001b[39m\"\u001b[39m\u001b[39mnonXla\u001b[39m\u001b[39m\"\u001b[39m\n\u001b[1;32m    <a href='file:///~/opt/anaconda3/lib/python3.9/site-packages/tensorflow/python/eager/def_function.py?line=913'>914</a>\u001b[0m \u001b[39mwith\u001b[39;00m OptionalXlaContext(\u001b[39mself\u001b[39m\u001b[39m.\u001b[39m_jit_compile):\n\u001b[0;32m--> <a href='file:///~/opt/anaconda3/lib/python3.9/site-packages/tensorflow/python/eager/def_function.py?line=914'>915</a>\u001b[0m   result \u001b[39m=\u001b[39m \u001b[39mself\u001b[39;49m\u001b[39m.\u001b[39;49m_call(\u001b[39m*\u001b[39;49margs, \u001b[39m*\u001b[39;49m\u001b[39m*\u001b[39;49mkwds)\n\u001b[1;32m    <a href='file:///~/opt/anaconda3/lib/python3.9/site-packages/tensorflow/python/eager/def_function.py?line=916'>917</a>\u001b[0m new_tracing_count \u001b[39m=\u001b[39m \u001b[39mself\u001b[39m\u001b[39m.\u001b[39mexperimental_get_tracing_count()\n\u001b[1;32m    <a href='file:///~/opt/anaconda3/lib/python3.9/site-packages/tensorflow/python/eager/def_function.py?line=917'>918</a>\u001b[0m without_tracing \u001b[39m=\u001b[39m (tracing_count \u001b[39m==\u001b[39m new_tracing_count)\n",
      "File \u001b[0;32m~/opt/anaconda3/lib/python3.9/site-packages/tensorflow/python/eager/def_function.py:947\u001b[0m, in \u001b[0;36mFunction._call\u001b[0;34m(self, *args, **kwds)\u001b[0m\n\u001b[1;32m    <a href='file:///~/opt/anaconda3/lib/python3.9/site-packages/tensorflow/python/eager/def_function.py?line=943'>944</a>\u001b[0m   \u001b[39mself\u001b[39m\u001b[39m.\u001b[39m_lock\u001b[39m.\u001b[39mrelease()\n\u001b[1;32m    <a href='file:///~/opt/anaconda3/lib/python3.9/site-packages/tensorflow/python/eager/def_function.py?line=944'>945</a>\u001b[0m   \u001b[39m# In this case we have created variables on the first call, so we run the\u001b[39;00m\n\u001b[1;32m    <a href='file:///~/opt/anaconda3/lib/python3.9/site-packages/tensorflow/python/eager/def_function.py?line=945'>946</a>\u001b[0m   \u001b[39m# defunned version which is guaranteed to never create variables.\u001b[39;00m\n\u001b[0;32m--> <a href='file:///~/opt/anaconda3/lib/python3.9/site-packages/tensorflow/python/eager/def_function.py?line=946'>947</a>\u001b[0m   \u001b[39mreturn\u001b[39;00m \u001b[39mself\u001b[39;49m\u001b[39m.\u001b[39;49m_stateless_fn(\u001b[39m*\u001b[39;49margs, \u001b[39m*\u001b[39;49m\u001b[39m*\u001b[39;49mkwds)  \u001b[39m# pylint: disable=not-callable\u001b[39;00m\n\u001b[1;32m    <a href='file:///~/opt/anaconda3/lib/python3.9/site-packages/tensorflow/python/eager/def_function.py?line=947'>948</a>\u001b[0m \u001b[39melif\u001b[39;00m \u001b[39mself\u001b[39m\u001b[39m.\u001b[39m_stateful_fn \u001b[39mis\u001b[39;00m \u001b[39mnot\u001b[39;00m \u001b[39mNone\u001b[39;00m:\n\u001b[1;32m    <a href='file:///~/opt/anaconda3/lib/python3.9/site-packages/tensorflow/python/eager/def_function.py?line=948'>949</a>\u001b[0m   \u001b[39m# Release the lock early so that multiple threads can perform the call\u001b[39;00m\n\u001b[1;32m    <a href='file:///~/opt/anaconda3/lib/python3.9/site-packages/tensorflow/python/eager/def_function.py?line=949'>950</a>\u001b[0m   \u001b[39m# in parallel.\u001b[39;00m\n\u001b[1;32m    <a href='file:///~/opt/anaconda3/lib/python3.9/site-packages/tensorflow/python/eager/def_function.py?line=950'>951</a>\u001b[0m   \u001b[39mself\u001b[39m\u001b[39m.\u001b[39m_lock\u001b[39m.\u001b[39mrelease()\n",
      "File \u001b[0;32m~/opt/anaconda3/lib/python3.9/site-packages/tensorflow/python/eager/function.py:2453\u001b[0m, in \u001b[0;36mFunction.__call__\u001b[0;34m(self, *args, **kwargs)\u001b[0m\n\u001b[1;32m   <a href='file:///~/opt/anaconda3/lib/python3.9/site-packages/tensorflow/python/eager/function.py?line=2449'>2450</a>\u001b[0m \u001b[39mwith\u001b[39;00m \u001b[39mself\u001b[39m\u001b[39m.\u001b[39m_lock:\n\u001b[1;32m   <a href='file:///~/opt/anaconda3/lib/python3.9/site-packages/tensorflow/python/eager/function.py?line=2450'>2451</a>\u001b[0m   (graph_function,\n\u001b[1;32m   <a href='file:///~/opt/anaconda3/lib/python3.9/site-packages/tensorflow/python/eager/function.py?line=2451'>2452</a>\u001b[0m    filtered_flat_args) \u001b[39m=\u001b[39m \u001b[39mself\u001b[39m\u001b[39m.\u001b[39m_maybe_define_function(args, kwargs)\n\u001b[0;32m-> <a href='file:///~/opt/anaconda3/lib/python3.9/site-packages/tensorflow/python/eager/function.py?line=2452'>2453</a>\u001b[0m \u001b[39mreturn\u001b[39;00m graph_function\u001b[39m.\u001b[39;49m_call_flat(\n\u001b[1;32m   <a href='file:///~/opt/anaconda3/lib/python3.9/site-packages/tensorflow/python/eager/function.py?line=2453'>2454</a>\u001b[0m     filtered_flat_args, captured_inputs\u001b[39m=\u001b[39;49mgraph_function\u001b[39m.\u001b[39;49mcaptured_inputs)\n",
      "File \u001b[0;32m~/opt/anaconda3/lib/python3.9/site-packages/tensorflow/python/eager/function.py:1860\u001b[0m, in \u001b[0;36mConcreteFunction._call_flat\u001b[0;34m(self, args, captured_inputs, cancellation_manager)\u001b[0m\n\u001b[1;32m   <a href='file:///~/opt/anaconda3/lib/python3.9/site-packages/tensorflow/python/eager/function.py?line=1855'>1856</a>\u001b[0m possible_gradient_type \u001b[39m=\u001b[39m gradients_util\u001b[39m.\u001b[39mPossibleTapeGradientTypes(args)\n\u001b[1;32m   <a href='file:///~/opt/anaconda3/lib/python3.9/site-packages/tensorflow/python/eager/function.py?line=1856'>1857</a>\u001b[0m \u001b[39mif\u001b[39;00m (possible_gradient_type \u001b[39m==\u001b[39m gradients_util\u001b[39m.\u001b[39mPOSSIBLE_GRADIENT_TYPES_NONE\n\u001b[1;32m   <a href='file:///~/opt/anaconda3/lib/python3.9/site-packages/tensorflow/python/eager/function.py?line=1857'>1858</a>\u001b[0m     \u001b[39mand\u001b[39;00m executing_eagerly):\n\u001b[1;32m   <a href='file:///~/opt/anaconda3/lib/python3.9/site-packages/tensorflow/python/eager/function.py?line=1858'>1859</a>\u001b[0m   \u001b[39m# No tape is watching; skip to running the function.\u001b[39;00m\n\u001b[0;32m-> <a href='file:///~/opt/anaconda3/lib/python3.9/site-packages/tensorflow/python/eager/function.py?line=1859'>1860</a>\u001b[0m   \u001b[39mreturn\u001b[39;00m \u001b[39mself\u001b[39m\u001b[39m.\u001b[39m_build_call_outputs(\u001b[39mself\u001b[39;49m\u001b[39m.\u001b[39;49m_inference_function\u001b[39m.\u001b[39;49mcall(\n\u001b[1;32m   <a href='file:///~/opt/anaconda3/lib/python3.9/site-packages/tensorflow/python/eager/function.py?line=1860'>1861</a>\u001b[0m       ctx, args, cancellation_manager\u001b[39m=\u001b[39;49mcancellation_manager))\n\u001b[1;32m   <a href='file:///~/opt/anaconda3/lib/python3.9/site-packages/tensorflow/python/eager/function.py?line=1861'>1862</a>\u001b[0m forward_backward \u001b[39m=\u001b[39m \u001b[39mself\u001b[39m\u001b[39m.\u001b[39m_select_forward_and_backward_functions(\n\u001b[1;32m   <a href='file:///~/opt/anaconda3/lib/python3.9/site-packages/tensorflow/python/eager/function.py?line=1862'>1863</a>\u001b[0m     args,\n\u001b[1;32m   <a href='file:///~/opt/anaconda3/lib/python3.9/site-packages/tensorflow/python/eager/function.py?line=1863'>1864</a>\u001b[0m     possible_gradient_type,\n\u001b[1;32m   <a href='file:///~/opt/anaconda3/lib/python3.9/site-packages/tensorflow/python/eager/function.py?line=1864'>1865</a>\u001b[0m     executing_eagerly)\n\u001b[1;32m   <a href='file:///~/opt/anaconda3/lib/python3.9/site-packages/tensorflow/python/eager/function.py?line=1865'>1866</a>\u001b[0m forward_function, args_with_tangents \u001b[39m=\u001b[39m forward_backward\u001b[39m.\u001b[39mforward()\n",
      "File \u001b[0;32m~/opt/anaconda3/lib/python3.9/site-packages/tensorflow/python/eager/function.py:497\u001b[0m, in \u001b[0;36m_EagerDefinedFunction.call\u001b[0;34m(self, ctx, args, cancellation_manager)\u001b[0m\n\u001b[1;32m    <a href='file:///~/opt/anaconda3/lib/python3.9/site-packages/tensorflow/python/eager/function.py?line=494'>495</a>\u001b[0m \u001b[39mwith\u001b[39;00m _InterpolateFunctionError(\u001b[39mself\u001b[39m):\n\u001b[1;32m    <a href='file:///~/opt/anaconda3/lib/python3.9/site-packages/tensorflow/python/eager/function.py?line=495'>496</a>\u001b[0m   \u001b[39mif\u001b[39;00m cancellation_manager \u001b[39mis\u001b[39;00m \u001b[39mNone\u001b[39;00m:\n\u001b[0;32m--> <a href='file:///~/opt/anaconda3/lib/python3.9/site-packages/tensorflow/python/eager/function.py?line=496'>497</a>\u001b[0m     outputs \u001b[39m=\u001b[39m execute\u001b[39m.\u001b[39;49mexecute(\n\u001b[1;32m    <a href='file:///~/opt/anaconda3/lib/python3.9/site-packages/tensorflow/python/eager/function.py?line=497'>498</a>\u001b[0m         \u001b[39mstr\u001b[39;49m(\u001b[39mself\u001b[39;49m\u001b[39m.\u001b[39;49msignature\u001b[39m.\u001b[39;49mname),\n\u001b[1;32m    <a href='file:///~/opt/anaconda3/lib/python3.9/site-packages/tensorflow/python/eager/function.py?line=498'>499</a>\u001b[0m         num_outputs\u001b[39m=\u001b[39;49m\u001b[39mself\u001b[39;49m\u001b[39m.\u001b[39;49m_num_outputs,\n\u001b[1;32m    <a href='file:///~/opt/anaconda3/lib/python3.9/site-packages/tensorflow/python/eager/function.py?line=499'>500</a>\u001b[0m         inputs\u001b[39m=\u001b[39;49margs,\n\u001b[1;32m    <a href='file:///~/opt/anaconda3/lib/python3.9/site-packages/tensorflow/python/eager/function.py?line=500'>501</a>\u001b[0m         attrs\u001b[39m=\u001b[39;49mattrs,\n\u001b[1;32m    <a href='file:///~/opt/anaconda3/lib/python3.9/site-packages/tensorflow/python/eager/function.py?line=501'>502</a>\u001b[0m         ctx\u001b[39m=\u001b[39;49mctx)\n\u001b[1;32m    <a href='file:///~/opt/anaconda3/lib/python3.9/site-packages/tensorflow/python/eager/function.py?line=502'>503</a>\u001b[0m   \u001b[39melse\u001b[39;00m:\n\u001b[1;32m    <a href='file:///~/opt/anaconda3/lib/python3.9/site-packages/tensorflow/python/eager/function.py?line=503'>504</a>\u001b[0m     outputs \u001b[39m=\u001b[39m execute\u001b[39m.\u001b[39mexecute_with_cancellation(\n\u001b[1;32m    <a href='file:///~/opt/anaconda3/lib/python3.9/site-packages/tensorflow/python/eager/function.py?line=504'>505</a>\u001b[0m         \u001b[39mstr\u001b[39m(\u001b[39mself\u001b[39m\u001b[39m.\u001b[39msignature\u001b[39m.\u001b[39mname),\n\u001b[1;32m    <a href='file:///~/opt/anaconda3/lib/python3.9/site-packages/tensorflow/python/eager/function.py?line=505'>506</a>\u001b[0m         num_outputs\u001b[39m=\u001b[39m\u001b[39mself\u001b[39m\u001b[39m.\u001b[39m_num_outputs,\n\u001b[0;32m   (...)\u001b[0m\n\u001b[1;32m    <a href='file:///~/opt/anaconda3/lib/python3.9/site-packages/tensorflow/python/eager/function.py?line=508'>509</a>\u001b[0m         ctx\u001b[39m=\u001b[39mctx,\n\u001b[1;32m    <a href='file:///~/opt/anaconda3/lib/python3.9/site-packages/tensorflow/python/eager/function.py?line=509'>510</a>\u001b[0m         cancellation_manager\u001b[39m=\u001b[39mcancellation_manager)\n",
      "File \u001b[0;32m~/opt/anaconda3/lib/python3.9/site-packages/tensorflow/python/eager/execute.py:54\u001b[0m, in \u001b[0;36mquick_execute\u001b[0;34m(op_name, num_outputs, inputs, attrs, ctx, name)\u001b[0m\n\u001b[1;32m     <a href='file:///~/opt/anaconda3/lib/python3.9/site-packages/tensorflow/python/eager/execute.py?line=51'>52</a>\u001b[0m \u001b[39mtry\u001b[39;00m:\n\u001b[1;32m     <a href='file:///~/opt/anaconda3/lib/python3.9/site-packages/tensorflow/python/eager/execute.py?line=52'>53</a>\u001b[0m   ctx\u001b[39m.\u001b[39mensure_initialized()\n\u001b[0;32m---> <a href='file:///~/opt/anaconda3/lib/python3.9/site-packages/tensorflow/python/eager/execute.py?line=53'>54</a>\u001b[0m   tensors \u001b[39m=\u001b[39m pywrap_tfe\u001b[39m.\u001b[39;49mTFE_Py_Execute(ctx\u001b[39m.\u001b[39;49m_handle, device_name, op_name,\n\u001b[1;32m     <a href='file:///~/opt/anaconda3/lib/python3.9/site-packages/tensorflow/python/eager/execute.py?line=54'>55</a>\u001b[0m                                       inputs, attrs, num_outputs)\n\u001b[1;32m     <a href='file:///~/opt/anaconda3/lib/python3.9/site-packages/tensorflow/python/eager/execute.py?line=55'>56</a>\u001b[0m \u001b[39mexcept\u001b[39;00m core\u001b[39m.\u001b[39m_NotOkStatusException \u001b[39mas\u001b[39;00m e:\n\u001b[1;32m     <a href='file:///~/opt/anaconda3/lib/python3.9/site-packages/tensorflow/python/eager/execute.py?line=56'>57</a>\u001b[0m   \u001b[39mif\u001b[39;00m name \u001b[39mis\u001b[39;00m \u001b[39mnot\u001b[39;00m \u001b[39mNone\u001b[39;00m:\n",
      "\u001b[0;31mKeyboardInterrupt\u001b[0m: "
     ]
    }
   ],
   "source": [
    "callback = tf.keras.callbacks.EarlyStopping(monitor='loss', patience=5)\n",
    "\n",
    "history = model.fit(\n",
    "    X_train,\n",
    "    y_train.values,\n",
    "    epochs=50,\n",
    "    callbacks=[callback]\n",
    ")"
   ]
  }
 ],
 "metadata": {
  "interpreter": {
   "hash": "156eba96b6fcd6f04a4e8b9649664bc4ed6dd29c5b93cfc57b5c6c5dec6406e4"
  },
  "kernelspec": {
   "display_name": "Python 3.9.12 ('base')",
   "language": "python",
   "name": "python3"
  },
  "language_info": {
   "codemirror_mode": {
    "name": "ipython",
    "version": 3
   },
   "file_extension": ".py",
   "mimetype": "text/x-python",
   "name": "python",
   "nbconvert_exporter": "python",
   "pygments_lexer": "ipython3",
   "version": "3.9.12"
  },
  "orig_nbformat": 4
 },
 "nbformat": 4,
 "nbformat_minor": 2
}
