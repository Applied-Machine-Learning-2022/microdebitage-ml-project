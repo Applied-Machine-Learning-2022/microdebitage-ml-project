{
 "cells": [
  {
   "cell_type": "code",
   "execution_count": 1,
   "metadata": {},
   "outputs": [
    {
     "name": "stderr",
     "output_type": "stream",
     "text": [
      "C:\\Users\\18595\\AppData\\Local\\Temp\\ipykernel_19540\\3358195845.py:9: DtypeWarning: Columns (0,1,2,3,4,5,6,7,8,9,10,11,12,13,14,15,16,17,18,19,20,21,22,23,24,25,26,27,28,29,37,38,39,40,41,42,43,44,45,46) have mixed types. Specify dtype option on import or set low_memory=False.\n",
      "  exp1_HH = pd.read_csv('Exp00001-Chert-HH-Master.csv', encoding= \"ISO-8859-1\")\n",
      "C:\\Users\\18595\\AppData\\Local\\Temp\\ipykernel_19540\\3358195845.py:10: DtypeWarning: Columns (0,1,2,3,4,5,6,7,8,9,10,11,12,13,14,15,16,17,18,19,20,21,22,23,24,25,26,27,28,29,37,38,39,40,41,42,43,44,45,46) have mixed types. Specify dtype option on import or set low_memory=False.\n",
      "  exp2_HH = pd.read_csv('Exp00002-Chert-HH-Master.csv', encoding= \"ISO-8859-1\")\n",
      "C:\\Users\\18595\\AppData\\Local\\Temp\\ipykernel_19540\\3358195845.py:11: DtypeWarning: Columns (0,1,2,3,4,5,6,7,8,9,10,11,12,13,14,15,16,17,18,19,20,21,22,23,24,25,26,27,28,29,37,38,39,40,41,42,43,44,45,46) have mixed types. Specify dtype option on import or set low_memory=False.\n",
      "  exp3_SH = pd.read_csv('Exp00003-CHERT-SH-Master.csv', encoding= \"ISO-8859-1\")\n",
      "C:\\Users\\18595\\AppData\\Local\\Temp\\ipykernel_19540\\3358195845.py:16: DtypeWarning: Columns (0,1,2,3,4,5,6,7,8,9,10,11,12,13,14,15,16,17,18,19,20,21,22,23,24,25,26,27,28,29,37,38,39,40,41,42,43,44,45,46) have mixed types. Specify dtype option on import or set low_memory=False.\n",
      "  exp6_HH = pd.read_csv('EXP00006-Obsidian-HH-Master.csv', encoding= \"ISO-8859-1\")\n",
      "C:\\Users\\18595\\AppData\\Local\\Temp\\ipykernel_19540\\3358195845.py:19: DtypeWarning: Columns (0,1,2,3,4,5,6,7,8,9,10,11,12,13,14,15,16,17,18,19,20,21,22,23,24,25,26,27,28,29,37,38,39,40,41,42,43,44,45,46) have mixed types. Specify dtype option on import or set low_memory=False.\n",
      "  exp8_HH = pd.read_csv('EXP00008-Chert-HH-Master.csv', encoding= \"ISO-8859-1\")\n"
     ]
    }
   ],
   "source": [
    "# Importing data\n",
    "\n",
    "import pandas as pd\n",
    "import matplotlib.pyplot as plt\n",
    "import tensorflow as tf\n",
    "import pickle\n",
    "\n",
    "#Chert tool #1\n",
    "exp1_HH = pd.read_csv('Exp00001-Chert-HH-Master.csv', encoding= \"ISO-8859-1\")\n",
    "exp2_HH = pd.read_csv('Exp00002-Chert-HH-Master.csv', encoding= \"ISO-8859-1\")\n",
    "exp3_SH = pd.read_csv('Exp00003-CHERT-SH-Master.csv', encoding= \"ISO-8859-1\")\n",
    "\n",
    "#Obsidian\n",
    "exp4_CR = pd.read_excel('Exp00004-Obsidian-CR-Master.xlsx')\n",
    "exp5_SH = pd.read_excel('Exp00005-Obsidian-SH-Master.xlsx')\n",
    "exp6_HH = pd.read_csv('EXP00006-Obsidian-HH-Master.csv', encoding= \"ISO-8859-1\")\n",
    "\n",
    "#Chert tool #2\n",
    "exp8_HH = pd.read_csv('EXP00008-Chert-HH-Master.csv', encoding= \"ISO-8859-1\")\n"
   ]
  },
  {
   "cell_type": "code",
   "execution_count": 2,
   "metadata": {},
   "outputs": [
    {
     "name": "stderr",
     "output_type": "stream",
     "text": [
      "c:\\Users\\18595\\anaconda3\\lib\\site-packages\\pandas\\core\\reshape\\merge.py:916: FutureWarning: In a future version, the Index constructor will not infer numeric dtypes when passed object-dtype sequences (matching Series behavior)\n",
      "  key_col = Index(lvals).where(~mask_left, rvals)\n",
      "c:\\Users\\18595\\anaconda3\\lib\\site-packages\\pandas\\core\\reshape\\merge.py:916: FutureWarning: In a future version, the Index constructor will not infer numeric dtypes when passed object-dtype sequences (matching Series behavior)\n",
      "  key_col = Index(lvals).where(~mask_left, rvals)\n"
     ]
    }
   ],
   "source": [
    "exp1_HH.drop(index=0, inplace=True)\n",
    "exp2_HH.drop(index=0, inplace=True)\n",
    "exp3_SH.drop(index=0, inplace=True)\n",
    "exp4_CR.drop(index=0, inplace=True)\n",
    "exp5_SH.drop(index=0, inplace=True)\n",
    "exp6_HH.drop(index=0, inplace=True)\n",
    "\n",
    "exp1_HH.reset_index(drop= True, inplace= True)\n",
    "exp2_HH.reset_index(drop= True, inplace= True)\n",
    "exp3_SH.reset_index(drop= True, inplace= True)\n",
    "exp4_CR.reset_index(drop= True, inplace=True)\n",
    "exp5_SH.reset_index(drop= True, inplace=True)\n",
    "exp6_HH.reset_index(drop= True, inplace=True)\n",
    "\n",
    "filter = ['Id', 'Filter0','Filter1', 'Filter2','Filter3', 'Filter4', 'Filter5', 'Filter6', 'hash', 'Img Id']\n",
    "f_exp1_HH = [x for x in exp1_HH.columns if x not in filter]\n",
    "f_exp2_HH = [x for x in exp2_HH.columns if x not in filter]\n",
    "f_exp3_SH = [x for x in exp3_SH.columns if x not in filter]\n",
    "f_exp4_CR = [x for x in exp4_CR.columns if x not in filter]\n",
    "f_exp5_SH = [x for x in exp5_SH.columns if x not in filter]\n",
    "f_exp6_HH = [x for x in exp6_HH.columns if x not in filter]\n",
    "\n",
    "exp1_HH = exp1_HH[f_exp1_HH]\n",
    "exp2_HH = exp2_HH[f_exp2_HH]\n",
    "exp3_SH = exp3_SH[f_exp3_SH]\n",
    "exp4_CR = exp4_CR[f_exp4_CR]\n",
    "exp5_SH = exp5_SH[f_exp5_SH]\n",
    "exp6_HH = exp6_HH[f_exp6_HH]\n",
    "\n",
    "exp1_HH['Production Stage'] = 1\n",
    "exp2_HH['Production Stage'] = 2\n",
    "exp3_SH['Production Stage'] = 3\n",
    "exp4_CR['Production Stage'] = 4\n",
    "exp5_SH['Production Stage'] = 5\n",
    "exp6_HH['Production Stage'] = 6\n",
    "\n",
    "C_data = exp1_HH.merge(exp2_HH, how= 'outer')\n",
    "C_data = C_data.merge(exp3_SH, how = 'outer')\n",
    "\n",
    "O_data = exp4_CR.merge(exp5_SH, how= 'outer')\n",
    "O_data = O_data.merge(exp6_HH, how='outer')\n",
    "\n",
    "total_merge = O_data.merge(C_data, how= 'outer')"
   ]
  },
  {
   "cell_type": "code",
   "execution_count": 11,
   "metadata": {},
   "outputs": [],
   "source": [
    "# Split data up\n",
    "from sklearn.model_selection import train_test_split\n",
    "from sklearn.preprocessing import StandardScaler\n",
    "\n",
    "CX_train, CX_test, cy_train, cy_test = train_test_split(\n",
    "    C_data[f_exp1_HH],\n",
    "    C_data['Production Stage'],\n",
    "    test_size=0.1,\n",
    "    stratify= C_data['Production Stage'],\n",
    "    random_state=44)\n",
    "\n",
    "\n",
    "sc_CX = StandardScaler()\n",
    "C_train = sc_CX.fit_transform(CX_train)\n",
    "CX_test= sc_CX.transform(CX_test)\n"
   ]
  },
  {
   "cell_type": "code",
   "execution_count": 3,
   "metadata": {},
   "outputs": [],
   "source": [
    "#Complete data split\n",
    "from sklearn.model_selection import train_test_split\n",
    "from sklearn.preprocessing import StandardScaler\n",
    "\n",
    "TX_train, TX_test, ty_train, ty_test = train_test_split(\n",
    "    total_merge[f_exp1_HH],\n",
    "    total_merge['Production Stage'],\n",
    "    test_size=0.1,\n",
    "    stratify= total_merge['Production Stage'],\n",
    "    random_state=44)\n",
    "\n",
    "\n",
    "sc_CX = StandardScaler()\n",
    "T_train = sc_CX.fit_transform(TX_train)\n",
    "TX_test= sc_CX.transform(TX_test)"
   ]
  },
  {
   "cell_type": "code",
   "execution_count": 14,
   "metadata": {},
   "outputs": [
    {
     "name": "stdout",
     "output_type": "stream",
     "text": [
      "Accuracy score: 0.5744430162810625\n"
     ]
    }
   ],
   "source": [
    "from sklearn.neighbors import KNeighborsClassifier\n",
    "from sklearn.preprocessing import scale\n",
    "from sklearn.metrics import accuracy_score\n",
    "\n",
    "C_model = KNeighborsClassifier(n_neighbors=7, \n",
    "                            weights= 'distance',\n",
    "                            p = 1, leaf_size= 5, \n",
    "                            algorithm='auto')\n",
    "\n",
    "C_model.fit(C_train, cy_train)\n",
    "labels = C_data['Production Stage']\n",
    "\n",
    "Knn_predictions = C_model.predict(CX_test)\n",
    "\n",
    "print('Accuracy score:',accuracy_score(cy_test, Knn_predictions))"
   ]
  },
  {
   "cell_type": "code",
   "execution_count": 6,
   "metadata": {},
   "outputs": [
    {
     "name": "stdout",
     "output_type": "stream",
     "text": [
      "Accuracy score: 0.3995584118597958\n",
      "Accuracy score: 0.09052556874186808\n"
     ]
    }
   ],
   "source": [
    "from sklearn.neighbors import KNeighborsClassifier\n",
    "from sklearn.preprocessing import scale\n",
    "from sklearn.metrics import accuracy_score\n",
    "\n",
    "T_model = KNeighborsClassifier(n_neighbors=5, \n",
    "                            weights= 'distance',\n",
    "                            p = 1, leaf_size= 5, \n",
    "                            algorithm='auto')\n",
    "\n",
    "T_model.fit(T_train, ty_train)\n",
    "labels = total_merge['Production Stage']\n",
    "\n",
    "Knn_predictions = T_model.predict(TX_test)\n",
    "\n",
    "print('Accuracy score:',accuracy_score(ty_test, Knn_predictions))\n",
    "\n",
    "from sklearn.cluster import KMeans\n",
    "\n",
    "Tkmeans_model = KMeans(n_clusters= 5, \n",
    "                        random_state= 0, \n",
    "                        max_iter= 45)\n",
    "\n",
    "Tkmeans_model.fit(T_train, ty_train)\n",
    "\n",
    "TKMeans_predictions = Tkmeans_model.predict(TX_test)\n",
    "\n",
    "print('Accuracy score:', accuracy_score(ty_test, TKMeans_predictions))"
   ]
  },
  {
   "cell_type": "code",
   "execution_count": 7,
   "metadata": {},
   "outputs": [],
   "source": [
    "from sklearn.pipeline import Pipeline\n",
    "from sklearn.model_selection import GridSearchCV\n",
    "\n",
    "params = [{ \n",
    "    'weights' : ['uniform', 'distance'],\n",
    "    'algorithm': ['auto', 'ball_tree', 'kd_tree', 'brute'],\n",
    "    'leaf_size': [5,10,15,20,25,30,35,40],\n",
    "            }]\n",
    "\n",
    "search = GridSearchCV(T_model, \n",
    "                    param_grid = params,\n",
    "                    scoring = 'accuracy',\n",
    "                    cv = 5)\n",
    "\n",
    "search.fit(TX_train,ty_train)\n",
    "print(search.best_params_)\n",
    "print(\"score: {}\".format(search.score(TX_train, ty_train)))"
   ]
  }
 ],
 "metadata": {
  "kernelspec": {
   "display_name": "Python 3.9.12 ('base')",
   "language": "python",
   "name": "python3"
  },
  "language_info": {
   "codemirror_mode": {
    "name": "ipython",
    "version": 3
   },
   "file_extension": ".py",
   "mimetype": "text/x-python",
   "name": "python",
   "nbconvert_exporter": "python",
   "pygments_lexer": "ipython3",
   "version": "3.9.12"
  },
  "orig_nbformat": 4,
  "vscode": {
   "interpreter": {
    "hash": "57279b1f8ab34c5e05b79187a57f554f106338f30a65896aafc1120729eab81b"
   }
  }
 },
 "nbformat": 4,
 "nbformat_minor": 2
}
