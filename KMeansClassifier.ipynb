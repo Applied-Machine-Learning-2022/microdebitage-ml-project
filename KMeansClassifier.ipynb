{
 "cells": [
  {
   "cell_type": "code",
   "execution_count": null,
   "metadata": {},
   "outputs": [],
   "source": [
    "import pandas as pd\n",
    "import matplotlib.pyplot as plt\n",
    "import tensorflow as tf\n",
    "import pickle\n",
    "\n",
    "exp_1 = pd.read_excel(\"EXP-00001-Master.xlsx\")\n",
    "exp_2 = pd.read_excel('EXP-00002-Master.xlsx')\n",
    "exp_3 = pd.read_excel('EXP-00003-Master.xlsx')\n",
    "exp_4 = pd.read_excel('EXP-00004-Master.xlsx')\n",
    "exp_5 = pd.read_excel('EXP-00004-Master.xlsx')\n",
    "\n",
    "\n",
    "exp_1.drop(index=0, inplace=True)\n",
    "exp_2.drop(index=0, inplace=True)\n",
    "exp_3.drop(index=0, inplace=True)\n",
    "exp_4.drop(index = 0, inplace = True)\n",
    "exp_5.drop(index = 0, inplace= True)\n",
    "\n",
    "exp_1.reset_index(drop=True, inplace=True)\n",
    "exp_2.reset_index(drop=True, inplace=True)\n",
    "exp_3.reset_index(drop=True, inplace=True)\n",
    "exp_4.reset_index(drop=True, inplace=True)\n",
    "exp_5.reset_index(drop=True, inplace=True)"
   ]
  },
  {
   "cell_type": "code",
   "execution_count": null,
   "metadata": {},
   "outputs": [],
   "source": [
    "not_included = ['Id', 'Filter0','Filter1', 'Filter2','Filter3', 'Filter4', 'Filter5', 'Filter6', 'hash', 'Img Id', 'Curvature', 'Transparency', 'Angularity']\n",
    "filtered = [x for x in exp_1.columns if x not in not_included]\n",
    "\n",
    "exp_1_filtered = exp_1[filtered]\n",
    "exp_2_filtered = exp_2[filtered]\n",
    "exp_3_filtered = exp_3[filtered]\n",
    "exp_4_filtered = exp_4[filtered]\n",
    "exp_5_filtered = exp_5[filtered]\n",
    "\n",
    "exp_1_filtered['Production Stage'] = 0\n",
    "exp_2_filtered['Production Stage'] = 1\n",
    "exp_3_filtered['Production Stage'] = 2\n",
    "exp_4_filtered['Production Stage'] = 3\n",
    "exp_5_filtered['Production Stage'] = 4"
   ]
  },
  {
   "cell_type": "code",
   "execution_count": null,
   "metadata": {},
   "outputs": [],
   "source": [
    "from sklearn.model_selection import train_test_split\n",
    "\n",
    "X_train, X_test, y_train, y_test = train_test_split(\n",
    "    data[filtered],\n",
    "    data['Production Stage'],\n",
    "    test_size=0.1,\n",
    "    stratify= data['Production Stage'],\n",
    "    random_state=44)\n",
    "\n",
    "y_train.groupby(y_train).count()\n",
    "y_test.groupby(y_test).count()"
   ]
  },
  {
   "cell_type": "code",
   "execution_count": null,
   "metadata": {},
   "outputs": [],
   "source": [
    "from sklearn.cluster import KMeans\n",
    "\n",
    "model = KMeans(n_clusters= 5, random_state= 0, max_iter= 45 )\n",
    "\n",
    "model.fit(scale(data[filtered]))\n",
    "\n",
    "cluster = model.predict([scale(data[filtered])[0]])[0]\n",
    "\n",
    "two_hundred = random[:1000]\n",
    "\n",
    "predictions = model.predict(two_hundred[filtered])"
   ]
  },
  {
   "cell_type": "code",
   "execution_count": null,
   "metadata": {},
   "outputs": [],
   "source": [
    "print('Accuracy score:',accuracy_score(two_hundred['Production Stage'], predictions))\n",
    "print(precision_score(two_hundred['Production Stage'], predictions, average='macro'))\n",
    "\n",
    "predictions"
   ]
  }
 ],
 "metadata": {
  "kernelspec": {
   "display_name": "Python 3.9.13 64-bit (windows store)",
   "language": "python",
   "name": "python3"
  },
  "language_info": {
   "name": "python",
   "version": "3.9.13"
  },
  "orig_nbformat": 4,
  "vscode": {
   "interpreter": {
    "hash": "79ff1e5d1c988803ca272e854ac0ee62f88ccf4aa17fd038c7e703dc5466d506"
   }
  }
 },
 "nbformat": 4,
 "nbformat_minor": 2
}
